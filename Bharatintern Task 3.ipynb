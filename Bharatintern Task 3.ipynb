{
 "cells": [
  {
   "cell_type": "code",
   "execution_count": 2,
   "metadata": {},
   "outputs": [],
   "source": [
    "import tensorflow as tf\n",
    "import numpy as np\n",
    "import os\n",
    "import matplotlib.pyplot as plt\n",
    "from tensorflow.keras.datasets import mnist\n",
    "from tensorflow.keras.models import Sequential\n",
    "from tensorflow.keras.layers import Conv2D, MaxPooling2D, Flatten, Dense"
   ]
  },
  {
   "cell_type": "code",
   "execution_count": 3,
   "metadata": {},
   "outputs": [],
   "source": [
    "(X_train, y_train), (X_test, y_test) = mnist.load_data()"
   ]
  },
  {
   "cell_type": "code",
   "execution_count": 4,
   "metadata": {},
   "outputs": [],
   "source": [
    "X_train = X_train.reshape(-1, 28, 28, 1) / 255.0\n",
    "X_test = X_test.reshape(-1, 28, 28, 1) / 255.0"
   ]
  },
  {
   "cell_type": "code",
   "execution_count": 5,
   "metadata": {},
   "outputs": [],
   "source": [
    "model = Sequential()\n",
    "model.add(Conv2D(32, (3, 3), activation='relu', input_shape=(28, 28, 1)))\n",
    "model.add(MaxPooling2D((2, 2)))\n",
    "model.add(Conv2D(64, (3, 3), activation='relu'))\n",
    "model.add(MaxPooling2D((2, 2)))\n",
    "model.add(Flatten())\n",
    "model.add(Dense(64, activation='relu'))\n",
    "model.add(Dense(10, activation='softmax'))"
   ]
  },
  {
   "cell_type": "code",
   "execution_count": 6,
   "metadata": {},
   "outputs": [],
   "source": [
    "model.compile(optimizer='adam', loss='sparse_categorical_crossentropy', metrics=['accuracy'])"
   ]
  },
  {
   "cell_type": "code",
   "execution_count": 7,
   "metadata": {},
   "outputs": [
    {
     "name": "stdout",
     "output_type": "stream",
     "text": [
      "Epoch 1/10\n",
      "1500/1500 [==============================] - 38s 24ms/step - loss: 0.1668 - accuracy: 0.9495 - val_loss: 0.0717 - val_accuracy: 0.9791\n",
      "Epoch 2/10\n",
      "1500/1500 [==============================] - 31s 21ms/step - loss: 0.0536 - accuracy: 0.9831 - val_loss: 0.0606 - val_accuracy: 0.9818\n",
      "Epoch 3/10\n",
      "1500/1500 [==============================] - 34s 23ms/step - loss: 0.0361 - accuracy: 0.9884 - val_loss: 0.0440 - val_accuracy: 0.9877\n",
      "Epoch 4/10\n",
      "1500/1500 [==============================] - 38s 26ms/step - loss: 0.0269 - accuracy: 0.9913 - val_loss: 0.0625 - val_accuracy: 0.9813\n",
      "Epoch 5/10\n",
      "1500/1500 [==============================] - 29s 20ms/step - loss: 0.0204 - accuracy: 0.9932 - val_loss: 0.0456 - val_accuracy: 0.9872\n",
      "Epoch 6/10\n",
      "1500/1500 [==============================] - 33s 22ms/step - loss: 0.0145 - accuracy: 0.9952 - val_loss: 0.0437 - val_accuracy: 0.9889\n",
      "Epoch 7/10\n",
      "1500/1500 [==============================] - 37s 25ms/step - loss: 0.0128 - accuracy: 0.9959 - val_loss: 0.0403 - val_accuracy: 0.9893\n",
      "Epoch 8/10\n",
      "1500/1500 [==============================] - 44s 29ms/step - loss: 0.0103 - accuracy: 0.9964 - val_loss: 0.0357 - val_accuracy: 0.9916\n",
      "Epoch 9/10\n",
      "1500/1500 [==============================] - 46s 31ms/step - loss: 0.0076 - accuracy: 0.9975 - val_loss: 0.0416 - val_accuracy: 0.9912\n",
      "Epoch 10/10\n",
      "1500/1500 [==============================] - 45s 30ms/step - loss: 0.0073 - accuracy: 0.9974 - val_loss: 0.0468 - val_accuracy: 0.9897\n"
     ]
    },
    {
     "data": {
      "text/plain": [
       "<keras.src.callbacks.History at 0x231c0236b50>"
      ]
     },
     "execution_count": 7,
     "metadata": {},
     "output_type": "execute_result"
    }
   ],
   "source": [
    "model.fit(X_train, y_train, epochs=10, validation_split=0.2)\n"
   ]
  },
  {
   "cell_type": "code",
   "execution_count": 8,
   "metadata": {},
   "outputs": [
    {
     "name": "stdout",
     "output_type": "stream",
     "text": [
      "313/313 [==============================] - 4s 10ms/step - loss: 0.0342 - accuracy: 0.9912\n",
      "Test Accuracy: [0.03418683633208275, 0.9911999702453613]\n"
     ]
    }
   ],
   "source": [
    "test_accuracy = model.evaluate(X_test, y_test)\n",
    "print(\"Test Accuracy:\", test_accuracy)"
   ]
  },
  {
   "cell_type": "code",
   "execution_count": 9,
   "metadata": {},
   "outputs": [
    {
     "name": "stdout",
     "output_type": "stream",
     "text": [
      "INFO:tensorflow:Assets written to: handwritten_digits.model\\assets\n"
     ]
    },
    {
     "name": "stderr",
     "output_type": "stream",
     "text": [
      "INFO:tensorflow:Assets written to: handwritten_digits.model\\assets\n"
     ]
    }
   ],
   "source": [
    "model.save('handwritten_digits.model')\n"
   ]
  },
  {
   "cell_type": "code",
   "execution_count": 10,
   "metadata": {},
   "outputs": [],
   "source": [
    " model = tf.keras.models.load_model('handwritten_digits.model')"
   ]
  },
  {
   "cell_type": "code",
   "execution_count": 16,
   "metadata": {},
   "outputs": [],
   "source": [
    "image_number = 1\n",
    "while os.path.isfile('digits/digit{}.png'.format(image_number)):\n",
    "    try:\n",
    "        img = Conv2D.imread('image1.png'.format(image_number))[:,:,0]\n",
    "        img = np.invert(np.array([img]))\n",
    "        prediction = model.predict(img)\n",
    "        print(\"The number is probably a {}\".format(np.argmax(prediction)))\n",
    "        plt.imshow(img[0], cmap=plt.cm.binary)\n",
    "        plt.show()\n",
    "        image_number += 1\n",
    "    except:\n",
    "        print(\"Error reading image! Proceeding with next image...\")\n",
    "        image_number += 1"
   ]
  }
 ],
 "metadata": {
  "kernelspec": {
   "display_name": "Python 3",
   "language": "python",
   "name": "python3"
  },
  "language_info": {
   "codemirror_mode": {
    "name": "ipython",
    "version": 3
   },
   "file_extension": ".py",
   "mimetype": "text/x-python",
   "name": "python",
   "nbconvert_exporter": "python",
   "pygments_lexer": "ipython3",
   "version": "3.11.4"
  },
  "orig_nbformat": 4
 },
 "nbformat": 4,
 "nbformat_minor": 2
}
